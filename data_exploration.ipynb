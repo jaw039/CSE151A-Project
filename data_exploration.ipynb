{
 "cells": [
  {
   "cell_type": "markdown",
   "id": "98d754df",
   "metadata": {},
   "source": [
    "Data Exploration "
   ]
  },
  {
   "cell_type": "markdown",
   "id": "41f8dc86",
   "metadata": {},
   "source": [
    "1. How many observations does your dataset have?"
   ]
  },
  {
   "cell_type": "markdown",
   "id": "c722df5a",
   "metadata": {},
   "source": [
    "2. Describe all columns in your dataset their scales and data distributions. Describe the categorical and continuous variables in your dataset. Describe your target column and if you are using images plot some example classes of the images."
   ]
  },
  {
   "cell_type": "markdown",
   "id": "bc4f9640",
   "metadata": {},
   "source": [
    "3. Do you have missing and duplicate values in your dataset?"
   ]
  },
  {
   "cell_type": "markdown",
   "id": "6bceb3ae",
   "metadata": {},
   "source": [
    "4. Note: For image data you can still describe your data by the number of classes, size of images, are sizes uniform? Do they need to be cropped? normalized? etc"
   ]
  },
  {
   "cell_type": "markdown",
   "id": "3b079aec",
   "metadata": {},
   "source": [
    "Data Plots"
   ]
  },
  {
   "cell_type": "markdown",
   "id": "520c8bc0",
   "metadata": {},
   "source": [
    "1. Plot your data with various types of charts like bar charts, pie charts, scatter plots etc. and clearly explain the plots."
   ]
  },
  {
   "cell_type": "markdown",
   "id": "098d20db",
   "metadata": {},
   "source": [
    "2. For image data, you will need to plot your example classes."
   ]
  },
  {
   "cell_type": "markdown",
   "id": "572f428e",
   "metadata": {},
   "source": [
    "How will you preprocess your data? Handle data imbalance if needed. You should only explain (do not perform pre-processing as that is in MS3) this in your README.md file and link your Jupyter notebook to it. All code and  Jupyter notebooks have be uploaded to your repo. (3 points)"
   ]
  },
  {
   "cell_type": "markdown",
   "id": "ac88332c",
   "metadata": {},
   "source": []
  }
 ],
 "metadata": {
  "language_info": {
   "name": "python"
  }
 },
 "nbformat": 4,
 "nbformat_minor": 5
}
