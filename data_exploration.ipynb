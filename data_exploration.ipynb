{
 "cells": [
  {
   "cell_type": "code",
   "execution_count": 1,
   "id": "98a81494",
   "metadata": {},
   "outputs": [],
   "source": [
    "import pandas as pd\n",
    "import numpy as np"
   ]
  },
  {
   "cell_type": "markdown",
   "id": "98d754df",
   "metadata": {},
   "source": [
    "Data Exploration "
   ]
  },
  {
   "cell_type": "markdown",
   "id": "41f8dc86",
   "metadata": {},
   "source": [
    "1. How many observations does your dataset have?"
   ]
  },
  {
   "cell_type": "code",
   "execution_count": 2,
   "id": "6004e14b",
   "metadata": {},
   "outputs": [
    {
     "name": "stdout",
     "output_type": "stream",
     "text": [
      "Available CSV files:\n",
      "  - weekly_player_stats_defense.csv\n",
      "  - weekly_player_stats_offense.csv\n",
      "  - weekly_team_stats_defense.csv\n",
      "  - weekly_team_stats_offense.csv\n",
      "  - yearly_player_stats_defense.csv\n",
      "  - yearly_player_stats_offense.csv\n",
      "  - yearly_team_stats_defense.csv\n",
      "  - yearly_team_stats_offense.csv\n",
      "\n",
      "============================================================\n",
      "DATASET OBSERVATION COUNTS\n",
      "============================================================\n",
      "\n",
      "weekly_player_stats_defense.csv:\n",
      "  • Observations (rows): 117,993\n",
      "  • Features (columns): 116\n",
      "  • Each observation = one player's weekly stats\n",
      "  • Sample columns: ['player_id', 'player_name', 'position', 'birth_year', 'draft_year']\n",
      "\n",
      "weekly_player_stats_offense.csv:\n",
      "  • Observations (rows): 58,629\n",
      "  • Features (columns): 393\n",
      "  • Each observation = one player's weekly stats\n",
      "  • Sample columns: ['season', 'week', 'offense_snaps', 'offense_pct', 'team_offense_snaps']\n",
      "\n",
      "weekly_team_stats_defense.csv:\n",
      "  • Observations (rows): 7,088\n",
      "  • Features (columns): 65\n",
      "  • Each observation = one player's weekly stats\n",
      "  • Sample columns: ['game_id', 'season', 'week', 'team', 'season_type']\n",
      "\n",
      "weekly_team_stats_offense.csv:\n",
      "  • Observations (rows): 7,088\n",
      "  • Features (columns): 115\n",
      "  • Each observation = one player's weekly stats\n",
      "  • Sample columns: ['game_id', 'season', 'week', 'team', 'season_type']\n",
      "\n",
      "yearly_player_stats_defense.csv:\n",
      "  • Observations (rows): 16,148\n",
      "  • Features (columns): 149\n",
      "  • Each observation = one player's season stats\n",
      "  • Sample columns: ['player_id', 'player_name', 'position', 'birth_year', 'draft_year']\n",
      "\n",
      "yearly_player_stats_offense.csv:\n",
      "  • Observations (rows): 7,133\n",
      "  • Features (columns): 660\n",
      "  • Each observation = one player's season stats\n",
      "  • Sample columns: ['player_id', 'player_name', 'position', 'birth_year', 'draft_year']\n",
      "\n",
      "yearly_team_stats_defense.csv:\n",
      "  • Observations (rows): 582\n",
      "  • Features (columns): 47\n",
      "  • Each observation = one player's season stats\n",
      "  • Sample columns: ['team', 'season', 'season_type', 'safety', 'interception']\n",
      "\n",
      "yearly_team_stats_offense.csv:\n",
      "  • Observations (rows): 582\n",
      "  • Features (columns): 99\n",
      "  • Each observation = one player's season stats\n",
      "  • Sample columns: ['team', 'season', 'season_type', 'shotgun', 'no_huddle']\n",
      "\n",
      "============================================================\n",
      "TOTAL OBSERVATIONS ACROSS ALL FILES: 215,243\n",
      "============================================================\n"
     ]
    }
   ],
   "source": [
    "# Load the dataset files to count observations\n",
    "import os\n",
    "\n",
    "# Check what data files are available\n",
    "data_files = [f for f in os.listdir('Data') if f.endswith('.csv')]\n",
    "print(\"Available CSV files:\")\n",
    "for file in data_files:\n",
    "    print(f\"  - {file}\")\n",
    "\n",
    "print(\"\\n\" + \"=\"*60)\n",
    "print(\"DATASET OBSERVATION COUNTS\")\n",
    "print(\"=\"*60)\n",
    "\n",
    "total_observations = 0\n",
    "\n",
    "# Count observations in each file\n",
    "for file in data_files:\n",
    "    df = pd.read_csv(f'Data/{file}')\n",
    "    rows, cols = df.shape\n",
    "    total_observations += rows\n",
    "    \n",
    "    print(f\"\\n{file}:\")\n",
    "    print(f\"  • Observations (rows): {rows:,}\")\n",
    "    print(f\"  • Features (columns): {cols}\")\n",
    "    \n",
    "    # Show what an observation represents\n",
    "    if 'weekly' in file.lower():\n",
    "        print(f\"  • Each observation = one player's weekly stats\")\n",
    "    elif 'yearly' in file.lower():\n",
    "        print(f\"  • Each observation = one player's season stats\")\n",
    "    \n",
    "    # Show a sample of the data structure\n",
    "    print(f\"  • Sample columns: {list(df.columns[:5])}\")\n",
    "\n",
    "print(\"\\n\" + \"=\"*60)\n",
    "print(f\"TOTAL OBSERVATIONS ACROSS ALL FILES: {total_observations:,}\")\n",
    "print(\"=\"*60)"
   ]
  },
  {
   "cell_type": "markdown",
   "id": "c722df5a",
   "metadata": {},
   "source": [
    "2. Describe all columns in your dataset their scales and data distributions. Describe the categorical and continuous variables in your dataset. Describe your target column and if you are using images plot some example classes of the images."
   ]
  },
  {
   "cell_type": "markdown",
   "id": "bc4f9640",
   "metadata": {},
   "source": [
    "3. Do you have missing and duplicate values in your dataset?"
   ]
  },
  {
   "cell_type": "markdown",
   "id": "3b079aec",
   "metadata": {},
   "source": [
    "Data Plots"
   ]
  },
  {
   "cell_type": "markdown",
   "id": "520c8bc0",
   "metadata": {},
   "source": [
    "1. Plot your data with various types of charts like bar charts, pie charts, scatter plots etc. and clearly explain the plots."
   ]
  },
  {
   "cell_type": "markdown",
   "id": "098d20db",
   "metadata": {},
   "source": [
    "2. For image data, you will need to plot your example classes."
   ]
  },
  {
   "cell_type": "markdown",
   "id": "572f428e",
   "metadata": {},
   "source": [
    "How will you preprocess your data? Handle data imbalance if needed. You should only explain (do not perform pre-processing as that is in MS3) this in your README.md file and link your Jupyter notebook to it. All code and  Jupyter notebooks have be uploaded to your repo. (3 points)"
   ]
  },
  {
   "cell_type": "markdown",
   "id": "ac88332c",
   "metadata": {},
   "source": []
  }
 ],
 "metadata": {
  "kernelspec": {
   "display_name": "Python 3",
   "language": "python",
   "name": "python3"
  },
  "language_info": {
   "codemirror_mode": {
    "name": "ipython",
    "version": 3
   },
   "file_extension": ".py",
   "mimetype": "text/x-python",
   "name": "python",
   "nbconvert_exporter": "python",
   "pygments_lexer": "ipython3",
   "version": "3.13.1"
  }
 },
 "nbformat": 4,
 "nbformat_minor": 5
}
