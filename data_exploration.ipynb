{
 "cells": [
  {
   "cell_type": "code",
   "execution_count": 1,
   "id": "98a81494",
   "metadata": {},
   "outputs": [],
   "source": [
    "import pandas as pd\n",
    "import numpy as np"
   ]
  },
  {
   "cell_type": "markdown",
   "id": "98d754df",
   "metadata": {},
   "source": [
    "Data Exploration "
   ]
  },
  {
   "cell_type": "markdown",
   "id": "41f8dc86",
   "metadata": {},
   "source": [
    "1. How many observations does your dataset have?"
   ]
  },
  {
   "cell_type": "code",
   "execution_count": 5,
   "id": "6004e14b",
   "metadata": {},
   "outputs": [
    {
     "name": "stdout",
     "output_type": "stream",
     "text": [
      "Weekly Player Stats (Offense):\n",
      "Observations: 58,629\n",
      "Features: 393\n",
      "\n",
      "Weekly Player Stats (Defense):\n",
      "Observations: 117,993\n",
      "Features: 116\n",
      "\n",
      "Yearly Player Stats (Offense):\n",
      "Observations: 7,133\n",
      "Features: 660\n",
      "\n",
      "Yearly Player Stats (Defense):\n",
      "Observations: 16,148\n",
      "Features: 149\n",
      "\n",
      "Weekly Team Stats (Offense):\n",
      "Observations: 7,088\n",
      "Features: 115\n",
      "\n",
      "Weekly Team Stats (Defense):\n",
      "Observations: 7,088\n",
      "Features: 65\n",
      "\n",
      "Yearly Team Stats (Offense):\n",
      "Observations: 582\n",
      "Features: 99\n",
      "\n",
      "Yearly Team Stats (Defense):\n",
      "Observations: 582\n",
      "Features: 47\n",
      "TOTAL OBSERVATIONS: 215,243\n"
     ]
    }
   ],
   "source": [
    "total_observations = 0\n",
    "\n",
    "# Load each dataset file \n",
    "weekly_offense = pd.read_csv('Data/weekly_player_stats_offense.csv')\n",
    "weekly_defense = pd.read_csv('Data/weekly_player_stats_defense.csv')\n",
    "yearly_offense = pd.read_csv('Data/yearly_player_stats_offense.csv')\n",
    "yearly_defense = pd.read_csv('Data/yearly_player_stats_defense.csv')\n",
    "weekly_team_offense = pd.read_csv('Data/weekly_team_stats_offense.csv')\n",
    "weekly_team_defense = pd.read_csv('Data/weekly_team_stats_defense.csv')\n",
    "yearly_team_offense = pd.read_csv('Data/yearly_team_stats_offense.csv')\n",
    "yearly_team_defense = pd.read_csv('Data/yearly_team_stats_defense.csv')\n",
    "\n",
    "# Count observations in each file\n",
    "print(\"Weekly Player Stats (Offense):\")\n",
    "print(f\"Observations: {len(weekly_offense):,}\")\n",
    "print(f\"Features: {len(weekly_offense.columns)}\")\n",
    "total_observations += len(weekly_offense)\n",
    "\n",
    "print(\"\\nWeekly Player Stats (Defense):\")\n",
    "print(f\"Observations: {len(weekly_defense):,}\")\n",
    "print(f\"Features: {len(weekly_defense.columns)}\")\n",
    "total_observations += len(weekly_defense)\n",
    "\n",
    "print(\"\\nYearly Player Stats (Offense):\")\n",
    "print(f\"Observations: {len(yearly_offense):,}\")\n",
    "print(f\"Features: {len(yearly_offense.columns)}\")\n",
    "total_observations += len(yearly_offense)\n",
    "\n",
    "print(\"\\nYearly Player Stats (Defense):\")\n",
    "print(f\"Observations: {len(yearly_defense):,}\")\n",
    "print(f\"Features: {len(yearly_defense.columns)}\")\n",
    "total_observations += len(yearly_defense)\n",
    "\n",
    "print(\"\\nWeekly Team Stats (Offense):\")\n",
    "print(f\"Observations: {len(weekly_team_offense):,}\")\n",
    "print(f\"Features: {len(weekly_team_offense.columns)}\")\n",
    "total_observations += len(weekly_team_offense)\n",
    "\n",
    "print(\"\\nWeekly Team Stats (Defense):\")\n",
    "print(f\"Observations: {len(weekly_team_defense):,}\")\n",
    "print(f\"Features: {len(weekly_team_defense.columns)}\")\n",
    "total_observations += len(weekly_team_defense)\n",
    "\n",
    "print(\"\\nYearly Team Stats (Offense):\")\n",
    "print(f\"Observations: {len(yearly_team_offense):,}\")\n",
    "print(f\"Features: {len(yearly_team_offense.columns)}\")\n",
    "total_observations += len(yearly_team_offense)\n",
    "\n",
    "print(\"\\nYearly Team Stats (Defense):\")\n",
    "print(f\"Observations: {len(yearly_team_defense):,}\")\n",
    "print(f\"Features: {len(yearly_team_defense.columns)}\")\n",
    "total_observations += len(yearly_team_defense)\n",
    "\n",
    "print(f\"TOTAL OBSERVATIONS: {total_observations:,}\")"
   ]
  },
  {
   "cell_type": "markdown",
   "id": "c722df5a",
   "metadata": {},
   "source": [
    "2. Describe all columns in your dataset their scales and data distributions. Describe the categorical and continuous variables in your dataset. Describe your target column and if you are using images plot some example classes of the images."
   ]
  },
  {
   "cell_type": "markdown",
   "id": "bc4f9640",
   "metadata": {},
   "source": [
    "3. Do you have missing and duplicate values in your dataset?"
   ]
  },
  {
   "cell_type": "markdown",
   "id": "3b079aec",
   "metadata": {},
   "source": [
    "Data Plots"
   ]
  },
  {
   "cell_type": "markdown",
   "id": "520c8bc0",
   "metadata": {},
   "source": [
    "1. Plot your data with various types of charts like bar charts, pie charts, scatter plots etc. and clearly explain the plots."
   ]
  },
  {
   "cell_type": "markdown",
   "id": "098d20db",
   "metadata": {},
   "source": [
    "2. For image data, you will need to plot your example classes."
   ]
  },
  {
   "cell_type": "markdown",
   "id": "572f428e",
   "metadata": {},
   "source": [
    "How will you preprocess your data? Handle data imbalance if needed. You should only explain (do not perform pre-processing as that is in MS3) this in your README.md file and link your Jupyter notebook to it. All code and  Jupyter notebooks have be uploaded to your repo. (3 points)"
   ]
  },
  {
   "cell_type": "markdown",
   "id": "ac88332c",
   "metadata": {},
   "source": []
  }
 ],
 "metadata": {
  "kernelspec": {
   "display_name": "Python 3",
   "language": "python",
   "name": "python3"
  },
  "language_info": {
   "codemirror_mode": {
    "name": "ipython",
    "version": 3
   },
   "file_extension": ".py",
   "mimetype": "text/x-python",
   "name": "python",
   "nbconvert_exporter": "python",
   "pygments_lexer": "ipython3",
   "version": "3.13.1"
  }
 },
 "nbformat": 4,
 "nbformat_minor": 5
}
