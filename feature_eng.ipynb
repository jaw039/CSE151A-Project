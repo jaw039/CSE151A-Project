{
 "cells": [
  {
   "cell_type": "markdown",
   "id": "6807bf13",
   "metadata": {},
   "source": [
    "Our preprocessing approach is designed to transform raw weekly player statistics into meaningful, position-specific performance metrics. The main goal is to identify players with consistent and high production for predictive modeling."
   ]
  },
  {
   "cell_type": "markdown",
   "id": "b17686ed",
   "metadata": {},
   "source": [
    "1. Aggregation of Weekly Data\n",
    "\n",
    "We start by parsing the weekly offense dataset.\n",
    "\n",
    "For each player, we compute average performance metrics per week within their respective position (RB, WR, TE, QB).\n",
    "\n",
    "This allows us to rank players by typical production levels for each position."
   ]
  },
  {
   "cell_type": "code",
   "execution_count": 2,
   "id": "adb49ac8",
   "metadata": {},
   "outputs": [],
   "source": [
    "import pandas as pd\n",
    "import numpy as np"
   ]
  },
  {
   "cell_type": "code",
   "execution_count": null,
   "id": "166cd732",
   "metadata": {},
   "outputs": [
    {
     "name": "stdout",
     "output_type": "stream",
     "text": [
      "Total records in weekly_offense: 58,629\n",
      "['season', 'week', 'offense_snaps', 'offense_pct', 'team_offense_snaps', 'player_id', 'birth_year', 'draft_year', 'draft_round', 'draft_pick', 'draft_ovr', 'height', 'weight', 'college', 'season_type', 'player_name', 'position', 'depth_team', 'conference', 'division', 'team', 'shotgun', 'no_huddle', 'qb_dropback', 'qb_scramble', 'pass_attempts', 'complete_pass', 'incomplete_pass', 'passing_yards', 'receiving_yards', 'yards_after_catch', 'rush_attempts', 'rushing_yards', 'tackled_for_loss', 'first_down_pass', 'first_down_rush', 'third_down_converted', 'third_down_failed', 'fourth_down_converted', 'fourth_down_failed', 'rush_touchdown', 'pass_touchdown', 'safety', 'interception', 'fumble', 'fumble_lost', 'fumble_forced', 'fumble_not_forced', 'fumble_out_of_bounds', 'receptions', 'targets', 'passing_air_yards', 'receiving_air_yards', 'receiving_touchdown', 'pass_attempts_redzone', 'complete_pass_redzone', 'pass_touchdown_redzone', 'pass_attempts_gtg', 'complete_pass_gtg', 'pass_touchdown_gtg', 'receptions_redzone', 'targets_redzone', 'receiving_touchdown_redzone', 'receptions_gtg', 'targets_gtg', 'receiving_touchdown_gtg', 'rush_attempts_redzone', 'rush_touchdown_redzone', 'rush_attempts_gtg', 'rush_touchdown_gtg', 'fantasy_points_ppr', 'fantasy_points_standard', 'passer_rating', 'adot', 'comp_pct', 'int_pct', 'pass_td_pct', 'ypa', 'rec_td_pct', 'yptarget', 'ayptarget', 'ypr', 'rush_td_pct', 'ypc', 'touches', 'total_tds', 'td_pct', 'total_yards', 'yptouch', 'delta_offense_snaps', 'delta_offense_pct', 'delta_team_offense_snaps', 'delta_pass_attempts', 'delta_complete_pass', 'delta_incomplete_pass', 'delta_passing_yards', 'delta_receiving_yards', 'delta_rush_attempts', 'delta_rush_touchdown', 'delta_rush_attempts_redzone', 'delta_rush_touchdown_redzone', 'delta_rush_attempts_gtg', 'delta_rush_touchdown_gtg', 'delta_fantasy_points_ppr', 'delta_fantasy_points_standard', 'delta_passer_rating', 'delta_comp_pct', 'delta_int_pct', 'delta_pass_td_pct', 'delta_ypa', 'delta_yptarget', 'delta_ypr', 'delta_rush_td_pct', 'delta_ypc', 'delta_touches', 'delta_total_tds', 'delta_td_pct', 'delta_total_yards', 'delta_yptouch', 'age', 'years_exp', 'games_played_season', 'games_played_career', 'season_shotgun', 'season_no_huddle', 'season_qb_dropback', 'season_qb_scramble', 'season_pass_attempts', 'season_complete_pass', 'season_incomplete_pass', 'season_passing_yards', 'season_receiving_yards', 'season_yards_after_catch', 'season_rush_attempts', 'season_rushing_yards', 'season_tackled_for_loss', 'season_first_down_pass', 'season_first_down_rush', 'season_third_down_converted', 'season_third_down_failed', 'season_fourth_down_converted', 'season_fourth_down_failed', 'season_rush_touchdown', 'season_pass_touchdown', 'season_safety', 'season_interception', 'season_fumble', 'season_fumble_lost', 'season_fumble_forced', 'season_fumble_not_forced', 'season_fumble_out_of_bounds', 'season_receptions', 'season_targets', 'season_passing_air_yards', 'season_receiving_air_yards', 'season_receiving_touchdown', 'season_pass_attempts_redzone', 'season_complete_pass_redzone', 'season_pass_touchdown_redzone', 'season_pass_attempts_gtg', 'season_complete_pass_gtg', 'season_pass_touchdown_gtg', 'season_receptions_redzone', 'season_targets_redzone', 'season_receiving_touchdown_redzone', 'season_receptions_gtg', 'season_targets_gtg', 'season_receiving_touchdown_gtg', 'season_rush_attempts_redzone', 'season_rush_touchdown_redzone', 'season_rush_attempts_gtg', 'season_rush_touchdown_gtg', 'season_fantasy_points_ppr', 'season_fantasy_points_standard', 'season_offense_snaps', 'season_team_offense_snaps', 'season_total_tds', 'season_touches', 'season_total_yards', 'career_shotgun', 'career_no_huddle', 'career_qb_dropback', 'career_qb_scramble', 'career_pass_attempts', 'career_complete_pass', 'career_incomplete_pass', 'career_passing_yards', 'career_receiving_yards', 'career_yards_after_catch', 'career_rush_attempts', 'career_rushing_yards', 'career_tackled_for_loss', 'career_first_down_pass', 'career_first_down_rush', 'career_third_down_converted', 'career_third_down_failed', 'career_fourth_down_converted', 'career_fourth_down_failed', 'career_rush_touchdown', 'career_pass_touchdown', 'career_safety', 'career_interception', 'career_fumble', 'career_fumble_lost', 'career_fumble_forced', 'career_fumble_not_forced', 'career_fumble_out_of_bounds', 'career_receptions', 'career_targets', 'career_passing_air_yards', 'career_receiving_air_yards', 'career_receiving_touchdown', 'career_pass_attempts_redzone', 'career_complete_pass_redzone', 'career_pass_touchdown_redzone', 'career_pass_attempts_gtg', 'career_complete_pass_gtg', 'career_pass_touchdown_gtg', 'career_receptions_redzone', 'career_targets_redzone', 'career_receiving_touchdown_redzone', 'career_receptions_gtg', 'career_targets_gtg', 'career_receiving_touchdown_gtg', 'career_rush_attempts_redzone', 'career_rush_touchdown_redzone', 'career_rush_attempts_gtg', 'career_rush_touchdown_gtg', 'career_fantasy_points_ppr', 'career_fantasy_points_standard', 'career_offense_snaps', 'career_team_offense_snaps', 'career_total_tds', 'career_touches', 'career_total_yards', 'season_average_shotgun', 'career_average_shotgun', 'season_average_no_huddle', 'career_average_no_huddle', 'season_average_qb_dropback', 'career_average_qb_dropback', 'season_average_qb_scramble', 'career_average_qb_scramble', 'season_average_pass_attempts', 'career_average_pass_attempts', 'season_average_complete_pass', 'career_average_complete_pass', 'season_average_incomplete_pass', 'career_average_incomplete_pass', 'season_average_passing_yards', 'career_average_passing_yards', 'season_average_receiving_yards', 'career_average_receiving_yards', 'season_average_yards_after_catch', 'career_average_yards_after_catch', 'season_average_rush_attempts', 'career_average_rush_attempts', 'season_average_rushing_yards', 'career_average_rushing_yards', 'season_average_tackled_for_loss', 'career_average_tackled_for_loss', 'season_average_first_down_pass', 'career_average_first_down_pass', 'season_average_first_down_rush', 'career_average_first_down_rush', 'season_average_third_down_converted', 'career_average_third_down_converted', 'season_average_third_down_failed', 'career_average_third_down_failed', 'season_average_fourth_down_converted', 'career_average_fourth_down_converted', 'season_average_fourth_down_failed', 'career_average_fourth_down_failed', 'season_average_rush_touchdown', 'career_average_rush_touchdown', 'season_average_pass_touchdown', 'career_average_pass_touchdown', 'season_average_safety', 'career_average_safety', 'season_average_interception', 'career_average_interception', 'season_average_fumble', 'career_average_fumble', 'season_average_fumble_lost', 'career_average_fumble_lost', 'season_average_fumble_forced', 'career_average_fumble_forced', 'season_average_fumble_not_forced', 'career_average_fumble_not_forced', 'season_average_fumble_out_of_bounds', 'career_average_fumble_out_of_bounds', 'season_average_receptions', 'career_average_receptions', 'season_average_targets', 'career_average_targets', 'season_average_passing_air_yards', 'career_average_passing_air_yards', 'season_average_receiving_air_yards', 'career_average_receiving_air_yards', 'season_average_receiving_touchdown', 'career_average_receiving_touchdown', 'season_average_pass_attempts_redzone', 'career_average_pass_attempts_redzone', 'season_average_complete_pass_redzone', 'career_average_complete_pass_redzone', 'season_average_pass_touchdown_redzone', 'career_average_pass_touchdown_redzone', 'season_average_pass_attempts_gtg', 'career_average_pass_attempts_gtg', 'season_average_complete_pass_gtg', 'career_average_complete_pass_gtg', 'season_average_pass_touchdown_gtg', 'career_average_pass_touchdown_gtg', 'season_average_receptions_redzone', 'career_average_receptions_redzone', 'season_average_targets_redzone', 'career_average_targets_redzone', 'season_average_receiving_touchdown_redzone', 'career_average_receiving_touchdown_redzone', 'season_average_receptions_gtg', 'career_average_receptions_gtg', 'season_average_targets_gtg', 'career_average_targets_gtg', 'season_average_receiving_touchdown_gtg', 'career_average_receiving_touchdown_gtg', 'season_average_rush_attempts_redzone', 'career_average_rush_attempts_redzone', 'season_average_rush_touchdown_redzone', 'career_average_rush_touchdown_redzone', 'season_average_rush_attempts_gtg', 'career_average_rush_attempts_gtg', 'season_average_rush_touchdown_gtg', 'career_average_rush_touchdown_gtg', 'season_average_fantasy_points_ppr', 'career_average_fantasy_points_ppr', 'season_average_fantasy_points_standard', 'career_average_fantasy_points_standard', 'season_average_offense_snaps', 'career_average_offense_snaps', 'season_average_team_offense_snaps', 'career_average_team_offense_snaps', 'season_average_total_tds', 'career_average_total_tds', 'season_average_touches', 'career_average_touches', 'season_average_total_yards', 'career_average_total_yards', 'team_pass_attempts_share', 'team_complete_pass_share', 'team_passing_yards_share', 'team_pass_touchdown_share', 'team_targets_share', 'team_receptions_share', 'team_receiving_yards_share', 'team_receiving_air_yards_share', 'team_receiving_touchdown_share', 'team_rush_attempts_share', 'team_rushing_yards_share', 'team_rush_touchdown_share', 'season_comp_pct', 'season_int_pct', 'season_pass_touchdown_pct', 'season_ypa', 'season_rec_td_pct', 'season_yptarget', 'season_ypr', 'season_rush_td_pct', 'season_ypc', 'season_td_pct', 'season_yptouch', 'season_pass_ypg', 'season_rec_ypg', 'season_rush_ypg', 'season_ypg', 'season_average_ppr_ppg', 'season_average_standard_ppg', 'career_comp_pct', 'career_int_pct', 'career_pass_touchdown_pct', 'career_ypa', 'career_rec_td_pct', 'career_yptarget', 'career_ypr', 'career_rush_td_pct', 'career_ypc', 'career_td_pct', 'career_yptouch', 'career_pass_ypg', 'career_rec_ypg', 'career_rush_ypg', 'career_ypg', 'career_average_ppr_ppg', 'career_average_standard_ppg']\n"
     ]
    }
   ],
   "source": [
    "weekly_offense = pd.read_csv('Data/weekly_player_stats_offense.csv')\n",
    "## check how many record are in the weekly player stats \n",
    "print(f\"Total records in weekly_offense: {len(weekly_offense):,}\")\n",
    "## check how many columns are there print out there names \n",
    "print(weekly_offense.columns.tolist())"
   ]
  },
  {
   "cell_type": "code",
   "execution_count": null,
   "id": "5d955840",
   "metadata": {},
   "outputs": [
    {
     "name": "stdout",
     "output_type": "stream",
     "text": [
      "position\n",
      "WR     23085\n",
      "RB     15009\n",
      "TE     11862\n",
      "QB      7670\n",
      "FB       730\n",
      "P         84\n",
      "CB        54\n",
      "SS        38\n",
      "FS        33\n",
      "ILB       18\n",
      "DE        11\n",
      "DT        11\n",
      "OLB        7\n",
      "K          6\n",
      "NT         5\n",
      "MLB        3\n",
      "LS         2\n",
      "T          1\n",
      "Name: count, dtype: int64\n"
     ]
    }
   ],
   "source": [
    "## check all the positions that are available \n",
    "print(weekly_offense['position'].value_counts())\n",
    "## make a dict with actual column names \n",
    "performance_metrics = {\n",
    "    'QB': ['passing_yards', 'pass_touchdown', 'interception', 'rushing_yards', 'rush_touchdown', 'fantasy_points_ppr'],\n",
    "    'RB': ['rushing_yards', 'rush_touchdown', 'receiving_yards', 'receiving_touchdown', 'receptions', 'fumble', 'fantasy_points_ppr'],\n",
    "    'WR': ['receiving_yards', 'receiving_touchdown', 'receptions', 'targets', 'fumble', 'fantasy_points_ppr'],\n",
    "    'TE': ['receiving_yards', 'receiving_touchdown', 'receptions', 'targets', 'fumble', 'fantasy_points_ppr']\n",
    "}"
   ]
  },
  {
   "cell_type": "code",
   "execution_count": null,
   "id": "70b392b1",
   "metadata": {},
   "outputs": [
    {
     "name": "stdout",
     "output_type": "stream",
     "text": [
      "Total records in weekly_offense: 58,629\n",
      "position\n",
      "WR    23085\n",
      "RB    15009\n",
      "TE    11862\n",
      "QB     7670\n",
      "Name: count, dtype: int64\n"
     ]
    }
   ],
   "source": [
    "# Filter for fantasy football positions only\n",
    "fantasy_positions = ['QB', 'RB', 'WR', 'TE']\n",
    "weekly_offense_filtered = weekly_offense[weekly_offense['position'].isin(fantasy_positions)].copy()\n",
    "## check how many record are in the new weekly player stats \n",
    "print(f\"Total records in weekly_offense: {len(weekly_offense):,}\")\n",
    "## check our offense position distribution\n",
    "print(weekly_offense_filtered['position'].value_counts())\n"
   ]
  },
  {
   "cell_type": "code",
   "execution_count": 17,
   "id": "f5d474fd",
   "metadata": {},
   "outputs": [
    {
     "name": "stdout",
     "output_type": "stream",
     "text": [
      "Found 7,670 weekly records for QB players\n",
      "Top 5 QB players:\n",
      "   1. Patrick Mahomes: 26.0 pts/game (131.0 games)\n",
      "   2. Josh Allen: 25.43 pts/game (117.0 games)\n",
      "   3. Drew Brees: 23.9 pts/game (137.0 games)\n",
      "   4. Jayden Daniels: 23.89 pts/game (19.0 games)\n",
      "   5. Lamar Jackson: 23.36 pts/game (93.0 games)\n",
      "Found 15,009 weekly records for RB players\n",
      "Top 5 RB players:\n",
      "   1. Christian McCaffrey: 22.0 pts/game (93.0 games)\n",
      "   2. Alvin Kamara: 19.15 pts/game (118.0 games)\n",
      "   3. Jahmyr Gibbs: 18.73 pts/game (35.0 games)\n",
      "   4. Saquon Barkley: 18.37 pts/game (94.0 games)\n",
      "   5. Le'Veon Bell: 17.88 pts/game (90.0 games)\n",
      "Found 23,085 weekly records for WR players\n",
      "Top 5 WR players:\n",
      "   1. Antonio Brown: 19.4 pts/game (122.0 games)\n",
      "   2. Justin Jefferson: 19.01 pts/game (74.0 games)\n",
      "   3. Ja'Marr Chase: 18.81 pts/game (66.0 games)\n",
      "   4. Calvin Johnson: 18.37 pts/game (60.0 games)\n",
      "   5. Malik Nabers: 17.84 pts/game (15.0 games)\n",
      "Found 11,862 weekly records for TE players\n",
      "Top 5 TE players:\n",
      "   1. Travis Kelce: 15.59 pts/game (195.0 games)\n",
      "   2. Brock Bowers: 14.86 pts/game (17.0 games)\n",
      "   3. Taysom Hill: 14.42 pts/game (5.0 games)\n",
      "   4. Rob Gronkowski: 14.24 pts/game (124.0 games)\n",
      "   5. Tony Gonzalez: 14.05 pts/game (34.0 games)\n"
     ]
    }
   ],
   "source": [
    "# Calculate weekly averages for each player by position\n",
    "position_aggregations = {}\n",
    "\n",
    "for position in fantasy_positions:\n",
    "    #Get only players from this position\n",
    "    position_data = weekly_offense_filtered[weekly_offense_filtered['position'] == position].copy()\n",
    "    print(f\"Found {len(position_data):,} weekly records for {position} players\")\n",
    "\n",
    "    # get the stats we care about for this position\n",
    "    stats_we_want = performance_metrics.get(position, [])\n",
    "\n",
    "    # Set up what we want to calculate\n",
    "    calculations = {}\n",
    "\n",
    "    # Add each stat we want to average\n",
    "    for stat in stats_we_want:\n",
    "        calculations[stat] = 'mean'\n",
    "    # Also count how many games each player played\n",
    "    calculations['week'] = 'count'\n",
    "\n",
    "    # Group players and calculate averages\n",
    "    player_groups = ['player_id', 'player_name']\n",
    "    player_averages = position_data.groupby(player_groups).agg(calculations)\n",
    "    player_averages = player_averages.round(2)\n",
    "    \n",
    "    #Clean up the column names\n",
    "    player_averages = player_averages.rename(columns={'week': 'games_played'})\n",
    "    player_averages['position'] = position\n",
    "\n",
    "    # Sort by fantasy points (best first)\n",
    "    player_averages = player_averages.sort_values('fantasy_points_ppr', ascending=False)\n",
    "\n",
    "    #Save results\n",
    "    position_aggregations[position] = player_averages\n",
    "\n",
    "    # Show top 5 players for this position\n",
    "    print(f\"Top 5 {position} players:\")\n",
    "    top_5 = player_averages[['fantasy_points_ppr', 'games_played']].head(5)\n",
    "    \n",
    "    for i, (player_info, stats) in enumerate(top_5.iterrows(), 1):\n",
    "        player_name = player_info[1]\n",
    "        fantasy_avg = stats['fantasy_points_ppr']\n",
    "        games = stats['games_played']\n",
    "        print(f\"   {i}. {player_name}: {fantasy_avg} pts/game ({games} games)\")\n",
    "\n",
    "\n",
    "    \n"
   ]
  },
  {
   "cell_type": "code",
   "execution_count": 18,
   "id": "57cdfee0",
   "metadata": {},
   "outputs": [
    {
     "name": "stdout",
     "output_type": "stream",
     "text": [
      "\n",
      "QB Summary:\n",
      "   Players: 182\n",
      "   Average fantasy pts: 11.0/game\n",
      "   Best player: Patrick Mahomes (26.0 pts/game)\n",
      "\n",
      "RB Summary:\n",
      "   Players: 397\n",
      "   Average fantasy pts: 6.8/game\n",
      "   Best player: Christian McCaffrey (22.0 pts/game)\n",
      "\n",
      "WR Summary:\n",
      "   Players: 573\n",
      "   Average fantasy pts: 6.3/game\n",
      "   Best player: Antonio Brown (19.4 pts/game)\n",
      "\n",
      "TE Summary:\n",
      "   Players: 285\n",
      "   Average fantasy pts: 4.9/game\n",
      "   Best player: Travis Kelce (15.6 pts/game)\n",
      "\n",
      "Saving results...\n",
      "Saved 1437 players to: Data/player_weekly_averages.csv\n",
      "\n",
      "TOP 10 FANTASY PLAYERS OVERALL:\n",
      "    1. Patrick Mahomes (QB): 26.0 pts/game (131 games)\n",
      "    2. Josh Allen (QB): 25.4 pts/game (117 games)\n",
      "    3. Drew Brees (QB): 23.9 pts/game (137 games)\n",
      "    4. Jayden Daniels (QB): 23.9 pts/game (19 games)\n",
      "    5. Lamar Jackson (QB): 23.4 pts/game (93 games)\n",
      "    6. Aaron Rodgers (QB): 23.2 pts/game (187 games)\n",
      "    7. Joe Burrow (QB): 23.1 pts/game (74 games)\n",
      "    8. Deshaun Watson (QB): 23.1 pts/game (73 games)\n",
      "    9. Tom Brady (QB): 22.8 pts/game (195 games)\n",
      "   10. Peyton Manning (QB): 22.8 pts/game (66 games)\n"
     ]
    }
   ],
   "source": [
    "# Summary for each position\n",
    "for position, data in position_aggregations.items():\n",
    "    num_players = len(data)\n",
    "    avg_fantasy = data['fantasy_points_ppr'].mean()\n",
    "    \n",
    "    # Get best player info\n",
    "    best_player_info = data.index[0]\n",
    "    best_player_name = best_player_info[1]\n",
    "    best_player_score = data['fantasy_points_ppr'].iloc[0]\n",
    "    \n",
    "    print(f\"\\n{position} Summary:\")\n",
    "    print(f\"   Players: {num_players}\")\n",
    "    print(f\"   Average fantasy pts: {avg_fantasy:.1f}/game\")\n",
    "    print(f\"   Best player: {best_player_name} ({best_player_score:.1f} pts/game)\")\n",
    "\n",
    "# Save all results to file\n",
    "if position_aggregations:\n",
    "    print(f\"\\nSaving results...\")\n",
    "    \n",
    "    # Combine all positions\n",
    "    all_positions = []\n",
    "    for position_data in position_aggregations.values():\n",
    "        all_positions.append(position_data)\n",
    "    \n",
    "    all_players = pd.concat(all_positions, ignore_index=False)\n",
    "    all_players = all_players.reset_index()\n",
    "    \n",
    "    # Save to CSV\n",
    "    output_file = 'Data/player_weekly_averages.csv'\n",
    "    all_players.to_csv(output_file, index=False)\n",
    "    print(f\"Saved {len(all_players)} players to: {output_file}\")\n",
    "    \n",
    "    # Show top 10 overall\n",
    "    print(f\"\\nTOP 10 FANTASY PLAYERS OVERALL:\")\n",
    "    top_10 = all_players.nlargest(10, 'fantasy_points_ppr')\n",
    "    \n",
    "    for i, player in top_10.iterrows():\n",
    "        name = player['player_name']\n",
    "        pos = player['position']\n",
    "        pts = player['fantasy_points_ppr']\n",
    "        games = player['games_played']\n",
    "        print(f\"   {i+1:2d}. {name} ({pos}): {pts:.1f} pts/game ({games} games)\")"
   ]
  },
  {
   "cell_type": "markdown",
   "id": "ae66dbba",
   "metadata": {},
   "source": [
    "2. Reliability Index\n",
    "\n",
    "Using data from the previous season, we calculate the standard deviation of each player’s weekly scores.\n",
    "\n",
    "Players with low standard deviations and high average performance are considered reliable performers.\n",
    "\n",
    "This creates a reliability index for each player, which helps quantify consistency in scoring."
   ]
  },
  {
   "cell_type": "code",
   "execution_count": null,
   "id": "fd4a4c1a",
   "metadata": {},
   "outputs": [],
   "source": []
  }
 ],
 "metadata": {
  "kernelspec": {
   "display_name": "Python 3",
   "language": "python",
   "name": "python3"
  },
  "language_info": {
   "codemirror_mode": {
    "name": "ipython",
    "version": 3
   },
   "file_extension": ".py",
   "mimetype": "text/x-python",
   "name": "python",
   "nbconvert_exporter": "python",
   "pygments_lexer": "ipython3",
   "version": "3.13.1"
  }
 },
 "nbformat": 4,
 "nbformat_minor": 5
}
