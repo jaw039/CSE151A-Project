{
 "cells": [
  {
   "cell_type": "markdown",
   "id": "6807bf13",
   "metadata": {},
   "source": [
    "Our preprocessing approach is designed to transform raw weekly player statistics into meaningful, position-specific performance metrics. The main goal is to identify players with consistent and high production for predictive modeling."
   ]
  },
  {
   "cell_type": "markdown",
   "id": "b17686ed",
   "metadata": {},
   "source": [
    "1. Aggregation of Weekly Data\n",
    "\n",
    "We start by parsing the weekly offense dataset.\n",
    "\n",
    "For each player, we compute average performance metrics per week within their respective position (RB, WR, TE, QB).\n",
    "\n",
    "This allows us to rank players by typical production levels for each position."
   ]
  },
  {
   "cell_type": "markdown",
   "id": "764deb70",
   "metadata": {},
   "source": []
  }
 ],
 "metadata": {
  "language_info": {
   "name": "python"
  }
 },
 "nbformat": 4,
 "nbformat_minor": 5
}
