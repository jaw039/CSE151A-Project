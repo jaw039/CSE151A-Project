{
 "cells": [
  {
   "cell_type": "markdown",
   "id": "6807bf13",
   "metadata": {},
   "source": [
    "Our preprocessing approach is designed to transform raw weekly player statistics into meaningful, position-specific performance metrics. The main goal is to identify players with consistent and high production for predictive modeling."
   ]
  },
  {
   "cell_type": "markdown",
   "id": "b17686ed",
   "metadata": {},
   "source": [
    "1. Aggregation of Weekly Data\n",
    "\n",
    "We start by parsing the weekly offense dataset.\n",
    "\n",
    "For each player, we compute average performance metrics per week within their respective position (RB, WR, TE, QB).\n",
    "\n",
    "This allows us to rank players by typical production levels for each position."
   ]
  },
  {
   "cell_type": "code",
   "execution_count": 2,
   "id": "adb49ac8",
   "metadata": {},
   "outputs": [],
   "source": [
    "import pandas as pd\n",
    "import numpy as np"
   ]
  },
  {
   "cell_type": "code",
   "execution_count": null,
   "id": "166cd732",
   "metadata": {},
   "outputs": [
    {
     "name": "stdout",
     "output_type": "stream",
     "text": [
      "Total records in weekly_offense: 58,629\n",
      "['season', 'week', 'offense_snaps', 'offense_pct', 'team_offense_snaps', 'player_id', 'birth_year', 'draft_year', 'draft_round', 'draft_pick', 'draft_ovr', 'height', 'weight', 'college', 'season_type', 'player_name', 'position', 'depth_team', 'conference', 'division', 'team', 'shotgun', 'no_huddle', 'qb_dropback', 'qb_scramble', 'pass_attempts', 'complete_pass', 'incomplete_pass', 'passing_yards', 'receiving_yards', 'yards_after_catch', 'rush_attempts', 'rushing_yards', 'tackled_for_loss', 'first_down_pass', 'first_down_rush', 'third_down_converted', 'third_down_failed', 'fourth_down_converted', 'fourth_down_failed', 'rush_touchdown', 'pass_touchdown', 'safety', 'interception', 'fumble', 'fumble_lost', 'fumble_forced', 'fumble_not_forced', 'fumble_out_of_bounds', 'receptions', 'targets', 'passing_air_yards', 'receiving_air_yards', 'receiving_touchdown', 'pass_attempts_redzone', 'complete_pass_redzone', 'pass_touchdown_redzone', 'pass_attempts_gtg', 'complete_pass_gtg', 'pass_touchdown_gtg', 'receptions_redzone', 'targets_redzone', 'receiving_touchdown_redzone', 'receptions_gtg', 'targets_gtg', 'receiving_touchdown_gtg', 'rush_attempts_redzone', 'rush_touchdown_redzone', 'rush_attempts_gtg', 'rush_touchdown_gtg', 'fantasy_points_ppr', 'fantasy_points_standard', 'passer_rating', 'adot', 'comp_pct', 'int_pct', 'pass_td_pct', 'ypa', 'rec_td_pct', 'yptarget', 'ayptarget', 'ypr', 'rush_td_pct', 'ypc', 'touches', 'total_tds', 'td_pct', 'total_yards', 'yptouch', 'delta_offense_snaps', 'delta_offense_pct', 'delta_team_offense_snaps', 'delta_pass_attempts', 'delta_complete_pass', 'delta_incomplete_pass', 'delta_passing_yards', 'delta_receiving_yards', 'delta_rush_attempts', 'delta_rush_touchdown', 'delta_rush_attempts_redzone', 'delta_rush_touchdown_redzone', 'delta_rush_attempts_gtg', 'delta_rush_touchdown_gtg', 'delta_fantasy_points_ppr', 'delta_fantasy_points_standard', 'delta_passer_rating', 'delta_comp_pct', 'delta_int_pct', 'delta_pass_td_pct', 'delta_ypa', 'delta_yptarget', 'delta_ypr', 'delta_rush_td_pct', 'delta_ypc', 'delta_touches', 'delta_total_tds', 'delta_td_pct', 'delta_total_yards', 'delta_yptouch', 'age', 'years_exp', 'games_played_season', 'games_played_career', 'season_shotgun', 'season_no_huddle', 'season_qb_dropback', 'season_qb_scramble', 'season_pass_attempts', 'season_complete_pass', 'season_incomplete_pass', 'season_passing_yards', 'season_receiving_yards', 'season_yards_after_catch', 'season_rush_attempts', 'season_rushing_yards', 'season_tackled_for_loss', 'season_first_down_pass', 'season_first_down_rush', 'season_third_down_converted', 'season_third_down_failed', 'season_fourth_down_converted', 'season_fourth_down_failed', 'season_rush_touchdown', 'season_pass_touchdown', 'season_safety', 'season_interception', 'season_fumble', 'season_fumble_lost', 'season_fumble_forced', 'season_fumble_not_forced', 'season_fumble_out_of_bounds', 'season_receptions', 'season_targets', 'season_passing_air_yards', 'season_receiving_air_yards', 'season_receiving_touchdown', 'season_pass_attempts_redzone', 'season_complete_pass_redzone', 'season_pass_touchdown_redzone', 'season_pass_attempts_gtg', 'season_complete_pass_gtg', 'season_pass_touchdown_gtg', 'season_receptions_redzone', 'season_targets_redzone', 'season_receiving_touchdown_redzone', 'season_receptions_gtg', 'season_targets_gtg', 'season_receiving_touchdown_gtg', 'season_rush_attempts_redzone', 'season_rush_touchdown_redzone', 'season_rush_attempts_gtg', 'season_rush_touchdown_gtg', 'season_fantasy_points_ppr', 'season_fantasy_points_standard', 'season_offense_snaps', 'season_team_offense_snaps', 'season_total_tds', 'season_touches', 'season_total_yards', 'career_shotgun', 'career_no_huddle', 'career_qb_dropback', 'career_qb_scramble', 'career_pass_attempts', 'career_complete_pass', 'career_incomplete_pass', 'career_passing_yards', 'career_receiving_yards', 'career_yards_after_catch', 'career_rush_attempts', 'career_rushing_yards', 'career_tackled_for_loss', 'career_first_down_pass', 'career_first_down_rush', 'career_third_down_converted', 'career_third_down_failed', 'career_fourth_down_converted', 'career_fourth_down_failed', 'career_rush_touchdown', 'career_pass_touchdown', 'career_safety', 'career_interception', 'career_fumble', 'career_fumble_lost', 'career_fumble_forced', 'career_fumble_not_forced', 'career_fumble_out_of_bounds', 'career_receptions', 'career_targets', 'career_passing_air_yards', 'career_receiving_air_yards', 'career_receiving_touchdown', 'career_pass_attempts_redzone', 'career_complete_pass_redzone', 'career_pass_touchdown_redzone', 'career_pass_attempts_gtg', 'career_complete_pass_gtg', 'career_pass_touchdown_gtg', 'career_receptions_redzone', 'career_targets_redzone', 'career_receiving_touchdown_redzone', 'career_receptions_gtg', 'career_targets_gtg', 'career_receiving_touchdown_gtg', 'career_rush_attempts_redzone', 'career_rush_touchdown_redzone', 'career_rush_attempts_gtg', 'career_rush_touchdown_gtg', 'career_fantasy_points_ppr', 'career_fantasy_points_standard', 'career_offense_snaps', 'career_team_offense_snaps', 'career_total_tds', 'career_touches', 'career_total_yards', 'season_average_shotgun', 'career_average_shotgun', 'season_average_no_huddle', 'career_average_no_huddle', 'season_average_qb_dropback', 'career_average_qb_dropback', 'season_average_qb_scramble', 'career_average_qb_scramble', 'season_average_pass_attempts', 'career_average_pass_attempts', 'season_average_complete_pass', 'career_average_complete_pass', 'season_average_incomplete_pass', 'career_average_incomplete_pass', 'season_average_passing_yards', 'career_average_passing_yards', 'season_average_receiving_yards', 'career_average_receiving_yards', 'season_average_yards_after_catch', 'career_average_yards_after_catch', 'season_average_rush_attempts', 'career_average_rush_attempts', 'season_average_rushing_yards', 'career_average_rushing_yards', 'season_average_tackled_for_loss', 'career_average_tackled_for_loss', 'season_average_first_down_pass', 'career_average_first_down_pass', 'season_average_first_down_rush', 'career_average_first_down_rush', 'season_average_third_down_converted', 'career_average_third_down_converted', 'season_average_third_down_failed', 'career_average_third_down_failed', 'season_average_fourth_down_converted', 'career_average_fourth_down_converted', 'season_average_fourth_down_failed', 'career_average_fourth_down_failed', 'season_average_rush_touchdown', 'career_average_rush_touchdown', 'season_average_pass_touchdown', 'career_average_pass_touchdown', 'season_average_safety', 'career_average_safety', 'season_average_interception', 'career_average_interception', 'season_average_fumble', 'career_average_fumble', 'season_average_fumble_lost', 'career_average_fumble_lost', 'season_average_fumble_forced', 'career_average_fumble_forced', 'season_average_fumble_not_forced', 'career_average_fumble_not_forced', 'season_average_fumble_out_of_bounds', 'career_average_fumble_out_of_bounds', 'season_average_receptions', 'career_average_receptions', 'season_average_targets', 'career_average_targets', 'season_average_passing_air_yards', 'career_average_passing_air_yards', 'season_average_receiving_air_yards', 'career_average_receiving_air_yards', 'season_average_receiving_touchdown', 'career_average_receiving_touchdown', 'season_average_pass_attempts_redzone', 'career_average_pass_attempts_redzone', 'season_average_complete_pass_redzone', 'career_average_complete_pass_redzone', 'season_average_pass_touchdown_redzone', 'career_average_pass_touchdown_redzone', 'season_average_pass_attempts_gtg', 'career_average_pass_attempts_gtg', 'season_average_complete_pass_gtg', 'career_average_complete_pass_gtg', 'season_average_pass_touchdown_gtg', 'career_average_pass_touchdown_gtg', 'season_average_receptions_redzone', 'career_average_receptions_redzone', 'season_average_targets_redzone', 'career_average_targets_redzone', 'season_average_receiving_touchdown_redzone', 'career_average_receiving_touchdown_redzone', 'season_average_receptions_gtg', 'career_average_receptions_gtg', 'season_average_targets_gtg', 'career_average_targets_gtg', 'season_average_receiving_touchdown_gtg', 'career_average_receiving_touchdown_gtg', 'season_average_rush_attempts_redzone', 'career_average_rush_attempts_redzone', 'season_average_rush_touchdown_redzone', 'career_average_rush_touchdown_redzone', 'season_average_rush_attempts_gtg', 'career_average_rush_attempts_gtg', 'season_average_rush_touchdown_gtg', 'career_average_rush_touchdown_gtg', 'season_average_fantasy_points_ppr', 'career_average_fantasy_points_ppr', 'season_average_fantasy_points_standard', 'career_average_fantasy_points_standard', 'season_average_offense_snaps', 'career_average_offense_snaps', 'season_average_team_offense_snaps', 'career_average_team_offense_snaps', 'season_average_total_tds', 'career_average_total_tds', 'season_average_touches', 'career_average_touches', 'season_average_total_yards', 'career_average_total_yards', 'team_pass_attempts_share', 'team_complete_pass_share', 'team_passing_yards_share', 'team_pass_touchdown_share', 'team_targets_share', 'team_receptions_share', 'team_receiving_yards_share', 'team_receiving_air_yards_share', 'team_receiving_touchdown_share', 'team_rush_attempts_share', 'team_rushing_yards_share', 'team_rush_touchdown_share', 'season_comp_pct', 'season_int_pct', 'season_pass_touchdown_pct', 'season_ypa', 'season_rec_td_pct', 'season_yptarget', 'season_ypr', 'season_rush_td_pct', 'season_ypc', 'season_td_pct', 'season_yptouch', 'season_pass_ypg', 'season_rec_ypg', 'season_rush_ypg', 'season_ypg', 'season_average_ppr_ppg', 'season_average_standard_ppg', 'career_comp_pct', 'career_int_pct', 'career_pass_touchdown_pct', 'career_ypa', 'career_rec_td_pct', 'career_yptarget', 'career_ypr', 'career_rush_td_pct', 'career_ypc', 'career_td_pct', 'career_yptouch', 'career_pass_ypg', 'career_rec_ypg', 'career_rush_ypg', 'career_ypg', 'career_average_ppr_ppg', 'career_average_standard_ppg']\n"
     ]
    }
   ],
   "source": [
    "weekly_offense = pd.read_csv('Data/weekly_player_stats_offense.csv')\n",
    "## check how many record are in the weekly player stats \n",
    "print(f\"Total records in weekly_offense: {len(weekly_offense):,}\")\n",
    "## check how many columns are there print out there names \n",
    "print(weekly_offense.columns.tolist())"
   ]
  },
  {
   "cell_type": "code",
   "execution_count": null,
   "id": "5d955840",
   "metadata": {},
   "outputs": [
    {
     "name": "stdout",
     "output_type": "stream",
     "text": [
      "position\n",
      "WR     23085\n",
      "RB     15009\n",
      "TE     11862\n",
      "QB      7670\n",
      "FB       730\n",
      "P         84\n",
      "CB        54\n",
      "SS        38\n",
      "FS        33\n",
      "ILB       18\n",
      "DE        11\n",
      "DT        11\n",
      "OLB        7\n",
      "K          6\n",
      "NT         5\n",
      "MLB        3\n",
      "LS         2\n",
      "T          1\n",
      "Name: count, dtype: int64\n"
     ]
    }
   ],
   "source": [
    "## check all the positions that are available \n",
    "print(weekly_offense['position'].value_counts())\n",
    "## make a dict with actual column names \n",
    "performance_metrics = {\n",
    "    'QB': ['passing_yards', 'pass_touchdown', 'interception', 'rushing_yards', 'rush_touchdown', 'fantasy_points_ppr'],\n",
    "    'RB': ['rushing_yards', 'rush_touchdown', 'receiving_yards', 'receiving_touchdown', 'receptions', 'fumble', 'fantasy_points_ppr'],\n",
    "    'WR': ['receiving_yards', 'receiving_touchdown', 'receptions', 'targets', 'fumble', 'fantasy_points_ppr'],\n",
    "    'TE': ['receiving_yards', 'receiving_touchdown', 'receptions', 'targets', 'fumble', 'fantasy_points_ppr']\n",
    "}"
   ]
  },
  {
   "cell_type": "code",
   "execution_count": null,
   "id": "70b392b1",
   "metadata": {},
   "outputs": [
    {
     "name": "stdout",
     "output_type": "stream",
     "text": [
      "Total records in weekly_offense: 58,629\n",
      "position\n",
      "WR    23085\n",
      "RB    15009\n",
      "TE    11862\n",
      "QB     7670\n",
      "Name: count, dtype: int64\n"
     ]
    }
   ],
   "source": [
    "# Filter for fantasy football positions only\n",
    "fantasy_positions = ['QB', 'RB', 'WR', 'TE']\n",
    "weekly_offense_filtered = weekly_offense[weekly_offense['position'].isin(fantasy_positions)].copy()\n",
    "## check how many record are in the new weekly player stats \n",
    "print(f\"Total records in weekly_offense: {len(weekly_offense):,}\")\n",
    "## check our offense position distribution\n",
    "print(weekly_offense_filtered['position'].value_counts())\n"
   ]
  },
  {
   "cell_type": "code",
   "execution_count": null,
   "id": "f5d474fd",
   "metadata": {},
   "outputs": [],
   "source": []
  },
  {
   "cell_type": "code",
   "execution_count": null,
   "id": "57cdfee0",
   "metadata": {},
   "outputs": [],
   "source": []
  }
 ],
 "metadata": {
  "kernelspec": {
   "display_name": "Python 3",
   "language": "python",
   "name": "python3"
  },
  "language_info": {
   "codemirror_mode": {
    "name": "ipython",
    "version": 3
   },
   "file_extension": ".py",
   "mimetype": "text/x-python",
   "name": "python",
   "nbconvert_exporter": "python",
   "pygments_lexer": "ipython3",
   "version": "3.13.1"
  }
 },
 "nbformat": 4,
 "nbformat_minor": 5
}
